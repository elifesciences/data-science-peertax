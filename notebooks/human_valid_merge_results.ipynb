{
 "cells": [
  {
   "cell_type": "code",
   "execution_count": 1,
   "metadata": {},
   "outputs": [],
   "source": [
    "import pandas as pd\n",
    "import numpy as np\n",
    "import glob\n",
    "\n",
    "import seaborn as sns\n",
    "import matplotlib.pyplot as plt\n",
    "from sklearn.metrics import classification_report\n"
   ]
  },
  {
   "cell_type": "markdown",
   "metadata": {},
   "source": [
    "## Loading and merging survey files"
   ]
  },
  {
   "cell_type": "code",
   "execution_count": 2,
   "metadata": {},
   "outputs": [],
   "source": [
    "valid_folder = '../data/'\n",
    "valid_file = 'wellcome_sentence_human_valid.csv'"
   ]
  },
  {
   "cell_type": "code",
   "execution_count": 3,
   "metadata": {},
   "outputs": [],
   "source": [
    "df_sent = pd.read_csv(valid_folder + valid_file)\n",
    "df_sent = df_sent.rename(columns = {'Unnamed: 0': 'ID'}).set_index('ID', drop=True)"
   ]
  },
  {
   "cell_type": "code",
   "execution_count": 4,
   "metadata": {},
   "outputs": [
    {
     "name": "stdout",
     "output_type": "stream",
     "text": [
      "<class 'pandas.core.frame.DataFrame'>\n",
      "Int64Index: 200 entries, 2311 to 20701\n",
      "Data columns (total 4 columns):\n",
      "Dominant_Topic       200 non-null int64\n",
      "Perc_Contribution    200 non-null float64\n",
      "texts                200 non-null object\n",
      "random               200 non-null int64\n",
      "dtypes: float64(1), int64(2), object(1)\n",
      "memory usage: 7.8+ KB\n"
     ]
    }
   ],
   "source": [
    "df_sent.info()"
   ]
  },
  {
   "cell_type": "code",
   "execution_count": 5,
   "metadata": {},
   "outputs": [],
   "source": [
    "survey_folder = valid_folder + 'validation/'"
   ]
  },
  {
   "cell_type": "code",
   "execution_count": 6,
   "metadata": {},
   "outputs": [],
   "source": [
    "df_survey = pd.DataFrame(columns=['ID', 'label_1', 'label_2']).set_index('ID', drop=True)\n",
    "for i, file in enumerate(glob.glob(survey_folder + \"*.tsv\")):\n",
    "    df_temp = pd.read_csv(file, sep = '\\t',  usecols = ['Unnamed: 0','label'])\n",
    "    df_temp = df_temp.rename(columns = {'Unnamed: 0': 'ID', 'label': 'label_1'}).set_index('ID', drop=True)\n",
    "    if i == 0:\n",
    "        df_survey = pd.concat([df_survey, df_temp], sort=False)\n",
    "    elif (i > 0) & (i < 9):\n",
    "        df_temp_1 = df_temp.iloc[:20].copy()\n",
    "        df_temp_1.rename(columns = {'label_1': 'label_2'}, inplace=True)\n",
    "        df_temp_2 = df_temp.iloc[20:].copy()\n",
    "        \n",
    "        df_survey.update(df_temp_1)\n",
    "        df_survey = pd.concat([df_survey, df_temp_2], sort=False)\n",
    "    else:\n",
    "        df_temp.rename(columns = {'label_1': 'label_2'}, inplace=True)\n",
    "        df_survey.update(df_temp)\n",
    "        \n",
    "    "
   ]
  },
  {
   "cell_type": "code",
   "execution_count": 7,
   "metadata": {},
   "outputs": [],
   "source": [
    "df_survey = df_survey.join(df_sent)\n",
    "df_survey[[\"label_1\", \"label_2\"]] = df_survey[[\"label_1\", \"label_2\"]].apply(lambda df: df.astype(int))"
   ]
  },
  {
   "cell_type": "code",
   "execution_count": 8,
   "metadata": {},
   "outputs": [
    {
     "name": "stdout",
     "output_type": "stream",
     "text": [
      "<class 'pandas.core.frame.DataFrame'>\n",
      "Int64Index: 200 entries, 2311 to 20701\n",
      "Data columns (total 6 columns):\n",
      "label_1              200 non-null int64\n",
      "label_2              200 non-null int64\n",
      "Dominant_Topic       200 non-null int64\n",
      "Perc_Contribution    200 non-null float64\n",
      "texts                200 non-null object\n",
      "random               200 non-null int64\n",
      "dtypes: float64(1), int64(4), object(1)\n",
      "memory usage: 20.9+ KB\n"
     ]
    }
   ],
   "source": [
    "df_survey.info()"
   ]
  },
  {
   "cell_type": "markdown",
   "metadata": {},
   "source": [
    "final_file = 'wellcome_sentence_human_valid_results.csv'\n",
    "df_survey.to_csv(valid_folder + final_file)"
   ]
  },
  {
   "cell_type": "markdown",
   "metadata": {},
   "source": [
    "## Statistics on surveyed sentences"
   ]
  },
  {
   "cell_type": "code",
   "execution_count": 9,
   "metadata": {},
   "outputs": [
    {
     "data": {
      "image/png": "[encoded data removed]",
      "text/plain": [
       "<Figure size 432x288 with 1 Axes>"
      ]
     },
     "metadata": {
      "needs_background": "light"
     },
     "output_type": "display_data"
    }
   ],
   "source": [
    "# Biased vs random sampling (0 is biased, 1 is random)\n",
    "ax = sns.countplot(x=\"Dominant_Topic\", hue=\"random\", data=df_survey);"
   ]
  },
  {
   "cell_type": "markdown",
   "metadata": {},
   "source": [
    "Random sampling overpopulates Group 0 and underpopulates all the others, except Group 2 "
   ]
  },
  {
   "cell_type": "code",
   "execution_count": 10,
   "metadata": {},
   "outputs": [],
   "source": [
    "# Group assignment according to labels"
   ]
  },
  {
   "cell_type": "code",
   "execution_count": 11,
   "metadata": {
    "scrolled": true
   },
   "outputs": [
    {
     "data": {
      "image/png": "[encoded data removed]",
      "text/plain": [
       "<Figure size 432x288 with 1 Axes>"
      ]
     },
     "metadata": {
      "needs_background": "light"
     },
     "output_type": "display_data"
    }
   ],
   "source": [
    "ax = sns.countplot(x=\"Dominant_Topic\", data=df_survey);\n",
    "ax.set_ylim([0, 60]);\n",
    "ax.set_xlabel('Topic');"
   ]
  },
  {
   "cell_type": "code",
   "execution_count": 12,
   "metadata": {},
   "outputs": [
    {
     "data": {
      "image/png": "[encoded data removed]",
      "text/plain": [
       "<Figure size 432x288 with 1 Axes>"
      ]
     },
     "metadata": {
      "needs_background": "light"
     },
     "output_type": "display_data"
    }
   ],
   "source": [
    "ax = sns.countplot(x=\"label_1\", data=df_survey);\n",
    "ax.set_ylim([0, 60]);"
   ]
  },
  {
   "cell_type": "code",
   "execution_count": 13,
   "metadata": {
    "scrolled": true
   },
   "outputs": [
    {
     "data": {
      "image/png": "[encoded data removed]",
      "text/plain": [
       "<Figure size 432x288 with 1 Axes>"
      ]
     },
     "metadata": {
      "needs_background": "light"
     },
     "output_type": "display_data"
    }
   ],
   "source": [
    "ax = sns.countplot(x=\"label_2\", data=df_survey);\n",
    "ax.set_ylim([0, 60]);"
   ]
  },
  {
   "cell_type": "markdown",
   "metadata": {},
   "source": [
    "Human labels vs predicted labels:\n",
    "- Group 0 is underrepresented (model is conservative in considering noise)\n",
    "- Group 1 is underrepresented\n",
    "- Group 2 is overrepresented\n",
    "- Group 3 is equally represented\n",
    "- Group 4 is equally represented\n",
    "- Group 5 is slightly underrepresented\n",
    "- Group 6 is largely overrepresented\n",
    "\n",
    "Definition of Group 6 is too vague: needs action."
   ]
  },
  {
   "cell_type": "code",
   "execution_count": 14,
   "metadata": {},
   "outputs": [],
   "source": [
    "import numpy as np\n",
    "import matplotlib.pyplot as plt\n",
    "from sklearn.metrics import confusion_matrix\n",
    "from sklearn.utils.multiclass import unique_labels\n",
    "\n",
    "def plot_confusion_matrix(y_true, y_pred,\n",
    "                          normalize=False,\n",
    "                          title=None,\n",
    "                          cmap=plt.cm.Blues):\n",
    "    \"\"\"\n",
    "    This function prints and plots the confusion matrix.\n",
    "    Normalization can be applied by setting `normalize=True`.\n",
    "    \"\"\"\n",
    "\n",
    "    # Compute confusion matrix\n",
    "    cm = confusion_matrix(y_true, y_pred)\n",
    "    # Only use the labels that appear in the data\n",
    "    classes = unique_labels(y_true, y_pred)\n",
    "    if normalize:\n",
    "        cm = cm.astype('float') / cm.sum(axis=1)[:, np.newaxis]\n",
    "\n",
    "    fig, ax = plt.subplots()\n",
    "    im = ax.imshow(cm, interpolation='nearest', cmap=cmap)\n",
    "    ax.figure.colorbar(im, ax=ax)\n",
    "\n",
    "    # Show all ticks and label them with the respective list entries\n",
    "    ax.set_xticks(np.arange(cm.shape[1]))\n",
    "    ax.set_xticklabels(classes)\n",
    "    ax.set_xlabel('Label 2')\n",
    "\n",
    "    ax.set_yticks(np.arange(cm.shape[0]))\n",
    "    ax.set_yticklabels(classes)\n",
    "    ax.set_ylabel('Label 1')\n",
    "    \n",
    "    ax.set_xticks(np.arange(cm.shape[1]+1)-.5, minor=True)\n",
    "    ax.set_yticks(np.arange(cm.shape[0]+1)-.5, minor=True)\n",
    "    ax.tick_params(which=\"minor\", bottom=False, left=False)\n",
    "\n",
    "    # Rotate the tick labels and set their alignment.\n",
    "    plt.setp(ax.get_xticklabels(), rotation=45, ha=\"right\",\n",
    "             rotation_mode=\"anchor\")\n",
    "\n",
    "    # Loop over data dimensions and create text annotations.\n",
    "    fmt = '.2f' if normalize else 'd'\n",
    "    thresh = cm.max() / 2.\n",
    "    for i in range(cm.shape[0]):\n",
    "        for j in range(cm.shape[1]):\n",
    "            ax.text(j, i, format(cm[i, j], fmt),\n",
    "                    ha=\"center\", va=\"center\",\n",
    "                    color=\"white\" if cm[i, j] > thresh else \"black\")\n",
    "    fig.tight_layout()\n",
    "    return ax"
   ]
  },
  {
   "cell_type": "code",
   "execution_count": 15,
   "metadata": {},
   "outputs": [
    {
     "data": {
      "image/png": "[encoded data removed]",
      "text/plain": [
       "<Figure size 432x288 with 2 Axes>"
      ]
     },
     "metadata": {
      "needs_background": "light"
     },
     "output_type": "display_data"
    }
   ],
   "source": [
    "# Show confusion matrix of Label 1 VS Label 2\n",
    "plot_confusion_matrix(df_survey['label_1'], df_survey['label_2']); "
   ]
  },
  {
   "cell_type": "code",
   "execution_count": 16,
   "metadata": {},
   "outputs": [],
   "source": [
    "# Group sentences together: assign them to each group if at least one label is of that group\n",
    "result_array = np.empty((7,8))\n",
    "for i in range(0,7):\n",
    "    df_group = df_survey[(df_survey.label_1 == i) | (df_survey.label_2 == i)]\n",
    "    a = np.concatenate((df_group.label_1.values, df_group.label_2.values))\n",
    "    result_array[i,0] = len(a)\n",
    "    result_array[i,1:] = np.around(np.bincount(a)/len(a) * 100, 1)\n",
    "\n",
    "index_list = ['Group ' + str(i) for i in range(7)]\n",
    "column_list = ['Total']\n",
    "for i in range(7):\n",
    "    column_list.append(str(i))\n",
    "\n",
    "df_result = pd.DataFrame(data=result_array,    # values\n",
    "             index=index_list,    # 1st column as index\n",
    "             columns=column_list)  # 1st row as the column names\n",
    "df_result['Total'] = df_result['Total'].astype(int)"
   ]
  },
  {
   "cell_type": "code",
   "execution_count": 17,
   "metadata": {},
   "outputs": [
    {
     "data": {
      "text/html": [
       "<div>\n",
       "<style scoped>\n",
       "    .dataframe tbody tr th:only-of-type {\n",
       "        vertical-align: middle;\n",
       "    }\n",
       "\n",
       "    .dataframe tbody tr th {\n",
       "        vertical-align: top;\n",
       "    }\n",
       "\n",
       "    .dataframe thead th {\n",
       "        text-align: right;\n",
       "    }\n",
       "</style>\n",
       "<table border=\"1\" class=\"dataframe\">\n",
       "  <thead>\n",
       "    <tr style=\"text-align: right;\">\n",
       "      <th></th>\n",
       "      <th>Total</th>\n",
       "      <th>0</th>\n",
       "      <th>1</th>\n",
       "      <th>2</th>\n",
       "      <th>3</th>\n",
       "      <th>4</th>\n",
       "      <th>5</th>\n",
       "      <th>6</th>\n",
       "    </tr>\n",
       "  </thead>\n",
       "  <tbody>\n",
       "    <tr>\n",
       "      <th>Group 0</th>\n",
       "      <td>100</td>\n",
       "      <td>61.0</td>\n",
       "      <td>1.0</td>\n",
       "      <td>11.0</td>\n",
       "      <td>4.0</td>\n",
       "      <td>5.0</td>\n",
       "      <td>5.0</td>\n",
       "      <td>13.0</td>\n",
       "    </tr>\n",
       "    <tr>\n",
       "      <th>Group 1</th>\n",
       "      <td>36</td>\n",
       "      <td>2.8</td>\n",
       "      <td>80.6</td>\n",
       "      <td>5.6</td>\n",
       "      <td>0.0</td>\n",
       "      <td>8.3</td>\n",
       "      <td>0.0</td>\n",
       "      <td>2.8</td>\n",
       "    </tr>\n",
       "    <tr>\n",
       "      <th>Group 2</th>\n",
       "      <td>130</td>\n",
       "      <td>8.5</td>\n",
       "      <td>1.5</td>\n",
       "      <td>70.0</td>\n",
       "      <td>1.5</td>\n",
       "      <td>4.6</td>\n",
       "      <td>3.1</td>\n",
       "      <td>10.8</td>\n",
       "    </tr>\n",
       "    <tr>\n",
       "      <th>Group 3</th>\n",
       "      <td>66</td>\n",
       "      <td>6.1</td>\n",
       "      <td>0.0</td>\n",
       "      <td>3.0</td>\n",
       "      <td>62.1</td>\n",
       "      <td>1.5</td>\n",
       "      <td>1.5</td>\n",
       "      <td>25.8</td>\n",
       "    </tr>\n",
       "    <tr>\n",
       "      <th>Group 4</th>\n",
       "      <td>74</td>\n",
       "      <td>6.8</td>\n",
       "      <td>4.1</td>\n",
       "      <td>8.1</td>\n",
       "      <td>1.4</td>\n",
       "      <td>67.6</td>\n",
       "      <td>2.7</td>\n",
       "      <td>9.5</td>\n",
       "    </tr>\n",
       "    <tr>\n",
       "      <th>Group 5</th>\n",
       "      <td>42</td>\n",
       "      <td>11.9</td>\n",
       "      <td>0.0</td>\n",
       "      <td>9.5</td>\n",
       "      <td>2.4</td>\n",
       "      <td>4.8</td>\n",
       "      <td>69.0</td>\n",
       "      <td>2.4</td>\n",
       "    </tr>\n",
       "    <tr>\n",
       "      <th>Group 6</th>\n",
       "      <td>152</td>\n",
       "      <td>8.6</td>\n",
       "      <td>0.7</td>\n",
       "      <td>9.2</td>\n",
       "      <td>11.2</td>\n",
       "      <td>4.6</td>\n",
       "      <td>0.7</td>\n",
       "      <td>65.1</td>\n",
       "    </tr>\n",
       "  </tbody>\n",
       "</table>\n",
       "</div>"
      ],
      "text/plain": [
       "         Total     0     1     2     3     4     5     6\n",
       "Group 0    100  61.0   1.0  11.0   4.0   5.0   5.0  13.0\n",
       "Group 1     36   2.8  80.6   5.6   0.0   8.3   0.0   2.8\n",
       "Group 2    130   8.5   1.5  70.0   1.5   4.6   3.1  10.8\n",
       "Group 3     66   6.1   0.0   3.0  62.1   1.5   1.5  25.8\n",
       "Group 4     74   6.8   4.1   8.1   1.4  67.6   2.7   9.5\n",
       "Group 5     42  11.9   0.0   9.5   2.4   4.8  69.0   2.4\n",
       "Group 6    152   8.6   0.7   9.2  11.2   4.6   0.7  65.1"
      ]
     },
     "execution_count": 17,
     "metadata": {},
     "output_type": "execute_result"
    }
   ],
   "source": [
    "df_result"
   ]
  },
  {
   "cell_type": "markdown",
   "metadata": {},
   "source": [
    "Mislabeling between the 2 human sets (ignoring Group 0, no label):\n",
    "- Group 1: good agreement (80%), slight overlap with Group 4\n",
    "- Group 2: decent agreement (70%), slight overlap with Group 6\n",
    "- Group 3: poor agreement (62%), major overlap with Group 6 (26%)\n",
    "- Group 4: decent agreement (68%), slight overlaps with Group 2 and Group 6\n",
    "- Group 5: decent agreement (69%), slight overlap with Group 2\n",
    "- Group 6: poor agreement (65%), overlaps with Group 2 and Group 3\n",
    "\n",
    "As already mentioned, definition of Group 6 is too vague (overlaps with majority of other groups)."
   ]
  },
  {
   "cell_type": "markdown",
   "metadata": {},
   "source": [
    "## Comparison with model"
   ]
  },
  {
   "cell_type": "code",
   "execution_count": 21,
   "metadata": {},
   "outputs": [],
   "source": [
    "import numpy as np\n",
    "import matplotlib.pyplot as plt\n",
    "from sklearn.metrics import confusion_matrix\n",
    "from sklearn.utils.multiclass import unique_labels\n",
    "\n",
    "def plot_confusion_matrix(y_true, y_pred,\n",
    "                          normalize=False,\n",
    "                          title=None,\n",
    "                          cmap=plt.cm.Blues):\n",
    "    \"\"\"\n",
    "    This function prints and plots the confusion matrix.\n",
    "    Normalization can be applied by setting `normalize=True`.\n",
    "    \"\"\"\n",
    "\n",
    "    # Compute confusion matrix\n",
    "    cm = confusion_matrix(y_true, y_pred)\n",
    "    # Only use the labels that appear in the data\n",
    "    classes = unique_labels(y_true, y_pred)\n",
    "    if normalize:\n",
    "        cm = cm.astype('float') / cm.sum(axis=1)[:, np.newaxis]\n",
    "\n",
    "    fig, ax = plt.subplots()\n",
    "    im = ax.imshow(cm, interpolation='nearest', cmap=cmap)\n",
    "    ax.figure.colorbar(im, ax=ax)\n",
    "\n",
    "    # Show all ticks and label them with the respective list entries\n",
    "    ax.set_xticks(np.arange(cm.shape[1]))\n",
    "    ax.set_xticklabels(classes)\n",
    "    ax.set_xlabel('Predicted')\n",
    "\n",
    "    ax.set_yticks(np.arange(cm.shape[0]))\n",
    "    ax.set_yticklabels(classes)\n",
    "    ax.set_ylabel('Respondent')\n",
    "    \n",
    "    ax.set_xticks(np.arange(cm.shape[1]+1)-.5, minor=True)\n",
    "    ax.set_yticks(np.arange(cm.shape[0]+1)-.5, minor=True)\n",
    "    ax.tick_params(which=\"minor\", bottom=False, left=False)\n",
    "\n",
    "    # Rotate the tick labels and set their alignment.\n",
    "    plt.setp(ax.get_xticklabels(), rotation=45, ha=\"right\",\n",
    "             rotation_mode=\"anchor\")\n",
    "\n",
    "    # Loop over data dimensions and create text annotations.\n",
    "    fmt = '.2f' if normalize else 'd'\n",
    "    thresh = cm.max() / 2.\n",
    "    for i in range(cm.shape[0]):\n",
    "        for j in range(cm.shape[1]):\n",
    "            ax.text(j, i, format(cm[i, j], fmt),\n",
    "                    ha=\"center\", va=\"center\",\n",
    "                    color=\"white\" if cm[i, j] > thresh else \"black\")\n",
    "    fig.tight_layout()\n",
    "    return ax"
   ]
  },
  {
   "cell_type": "code",
   "execution_count": 22,
   "metadata": {},
   "outputs": [
    {
     "name": "stdout",
     "output_type": "stream",
     "text": [
      "              precision    recall  f1-score   support\n",
      "\n",
      "           0       0.27      0.36      0.31        11\n",
      "           1       0.73      1.00      0.85        11\n",
      "           2       0.47      0.35      0.40        26\n",
      "           3       0.55      0.75      0.63         8\n",
      "           4       0.33      0.46      0.39        13\n",
      "           5       0.71      0.62      0.67         8\n",
      "           6       0.40      0.26      0.32        23\n",
      "\n",
      "    accuracy                           0.47       100\n",
      "   macro avg       0.50      0.54      0.51       100\n",
      "weighted avg       0.47      0.47      0.46       100\n",
      "\n"
     ]
    },
    {
     "data": {
      "image/png": "[encoded data removed]",
      "text/plain": [
       "<Figure size 432x288 with 2 Axes>"
      ]
     },
     "metadata": {
      "needs_background": "light"
     },
     "output_type": "display_data"
    }
   ],
   "source": [
    "# Validation report (when the two human labels agree)\n",
    "\n",
    "df_survey_same = df_survey[df_survey.label_1 == df_survey.label_2]\n",
    "y_true = df_survey_same['label_1']\n",
    "y_pred = df_survey_same['Dominant_Topic']\n",
    "plot_confusion_matrix(y_true, y_pred); \n",
    "classes = unique_labels(y_true, y_pred).astype(str)\n",
    "print(classification_report(y_true, y_pred, target_names=classes))"
   ]
  },
  {
   "cell_type": "code",
   "execution_count": 20,
   "metadata": {},
   "outputs": [
    {
     "name": "stdout",
     "output_type": "stream",
     "text": [
      "              precision    recall  f1-score   support\n",
      "\n",
      "           0       0.39      0.49      0.44        61\n",
      "           1       0.58      0.90      0.71        31\n",
      "           2       0.58      0.47      0.52        93\n",
      "           3       0.67      0.67      0.67        48\n",
      "           4       0.42      0.55      0.48        47\n",
      "           5       0.60      0.73      0.66        33\n",
      "           6       0.56      0.32      0.41        87\n",
      "\n",
      "    accuracy                           0.53       400\n",
      "   macro avg       0.54      0.59      0.55       400\n",
      "weighted avg       0.54      0.53      0.52       400\n",
      "\n"
     ]
    },
    {
     "data": {
      "image/png": "[encoded data removed]",
      "text/plain": [
       "<Figure size 432x288 with 2 Axes>"
      ]
     },
     "metadata": {
      "needs_background": "light"
     },
     "output_type": "display_data"
    }
   ],
   "source": [
    "# Validation report (when at least one label agrees with model)\n",
    "\n",
    "df_survey_loose = df_survey.loc[:, ['label_1', 'label_2', 'Dominant_Topic']]\n",
    "# Duplicate dataframe\n",
    "df_survey_loose = pd.concat([df_survey_loose, df_survey_loose])\n",
    "\n",
    "# Assign new column:\n",
    "# - label_2 if agrees with model, otherwise label_1\n",
    "df_survey_loose['label_3'] = np.where(df_survey_loose.label_2 == df_survey_loose.Dominant_Topic, \n",
    "                                      df_survey_loose.label_2, \n",
    "                                      df_survey_loose.label_1)\n",
    "# On duplicate:\n",
    "# - label_1 if agrees with model, otherwise label_2\n",
    "df_survey_loose.iloc[200:, 3] = np.where(df_survey_loose.iloc[200:, 0] == df_survey_loose.iloc[200:, 2], \n",
    "                                      df_survey_loose.iloc[200:, 0], \n",
    "                                      df_survey_loose.iloc[200:, 1])\n",
    "\n",
    "y_true = df_survey_loose['label_3']\n",
    "y_pred = df_survey_loose['Dominant_Topic']\n",
    "plot_confusion_matrix(y_true, y_pred); \n",
    "classes = unique_labels(y_true, y_pred).astype(str)\n",
    "print(classification_report(y_true, y_pred, target_names=classes))"
   ]
  },
  {
   "cell_type": "code",
   "execution_count": null,
   "metadata": {},
   "outputs": [],
   "source": []
  }
 ],
 "metadata": {
  "kernelspec": {
   "display_name": "Python 3",
   "language": "python",
   "name": "python3"
  },
  "language_info": {
   "codemirror_mode": {
    "name": "ipython",
    "version": 3
   },
   "file_extension": ".py",
   "mimetype": "text/x-python",
   "name": "python",
   "nbconvert_exporter": "python",
   "pygments_lexer": "ipython3",
   "version": "3.6.8"
  }
 },
 "nbformat": 4,
 "nbformat_minor": 2
}
