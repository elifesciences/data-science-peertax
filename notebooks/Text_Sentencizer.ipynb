{
 "cells": [
  {
   "cell_type": "markdown",
   "metadata": {},
   "source": [
    "# Text sentencizer"
   ]
  },
  {
   "cell_type": "markdown",
   "metadata": {},
   "source": [
    "## Configuration"
   ]
  },
  {
   "cell_type": "code",
   "execution_count": 2,
   "metadata": {},
   "outputs": [],
   "source": [
    "import numpy as np\n",
    "import pandas as pd\n",
    "import matplotlib.pyplot as plt\n",
    "import seaborn as sns\n",
    "sns.set_style(\"whitegrid\")\n",
    "import itertools\n",
    "from tqdm import tqdm_notebook as tqdm \n",
    "from time import time  # To time our operations"
   ]
  },
  {
   "cell_type": "markdown",
   "metadata": {},
   "source": [
    "## Data Extraction & Cleaning"
   ]
  },
  {
   "cell_type": "code",
   "execution_count": 8,
   "metadata": {},
   "outputs": [],
   "source": [
    "df = pd.read_csv('../data/reviews/f1000_reviews.csv')\n",
    "df.drop(columns=['Unnamed: 0'],inplace=True)"
   ]
  },
  {
   "cell_type": "code",
   "execution_count": 9,
   "metadata": {},
   "outputs": [
    {
     "name": "stdout",
     "output_type": "stream",
     "text": [
      "<class 'pandas.core.frame.DataFrame'>\n",
      "RangeIndex: 10738 entries, 0 to 10737\n",
      "Data columns (total 3 columns):\n",
      "manuscript_ID    10738 non-null object\n",
      "review_ID        10738 non-null object\n",
      "review           10738 non-null object\n",
      "dtypes: object(3)\n",
      "memory usage: 251.8+ KB\n"
     ]
    }
   ],
   "source": [
    "df.info()"
   ]
  },
  {
   "cell_type": "markdown",
   "metadata": {},
   "source": [
    "Remove null entries from all columns except \"minor comments\". Remove duplicates from the 'major_comment' section."
   ]
  },
  {
   "cell_type": "code",
   "execution_count": 10,
   "metadata": {},
   "outputs": [],
   "source": [
    "# Replace string 'None' with actual None\n",
    "df = df.replace(to_replace=['None','none'], value=np.nan)\n",
    "d = df.isna().any()\n",
    "data_df = df.dropna(subset = d[d.values == True].index.values).drop_duplicates(subset = ['review']).copy()\n",
    "#Drop entries with 'major_comments' having less than two characters\n",
    "data_df.drop(data_df.review[data_df.review.str.len() < 2].index,inplace=True)\n",
    "data_df.reset_index(drop=True,inplace=True)"
   ]
  },
  {
   "cell_type": "code",
   "execution_count": 11,
   "metadata": {},
   "outputs": [
    {
     "name": "stdout",
     "output_type": "stream",
     "text": [
      "<class 'pandas.core.frame.DataFrame'>\n",
      "RangeIndex: 7297 entries, 0 to 7296\n",
      "Data columns (total 3 columns):\n",
      "manuscript_ID    7297 non-null object\n",
      "review_ID        7297 non-null object\n",
      "review           7297 non-null object\n",
      "dtypes: object(3)\n",
      "memory usage: 171.1+ KB\n"
     ]
    }
   ],
   "source": [
    "data_df.info()"
   ]
  },
  {
   "cell_type": "markdown",
   "metadata": {},
   "source": [
    "Test preprocessing function."
   ]
  },
  {
   "cell_type": "code",
   "execution_count": 12,
   "metadata": {
    "scrolled": true
   },
   "outputs": [
    {
     "data": {
      "application/vnd.jupyter.widget-view+json": {
       "model_id": "a8c4af71869b4cafac6ed227752794a5",
       "version_major": 2,
       "version_minor": 0
      },
      "text/plain": [
       "HBox(children=(IntProgress(value=0, max=1), HTML(value='')))"
      ]
     },
     "metadata": {},
     "output_type": "display_data"
    },
    {
     "name": "stdout",
     "output_type": "stream",
     "text": [
      "\n"
     ]
    }
   ],
   "source": [
    "from peertax.sentencizer_LDA import custom_sentencizer as cs\n",
    "from random import randint\n",
    "num = randint(0,len(data_df))\n",
    "txt_test = [data_df.loc[num,'review']]\n",
    "txt_after = cs(txt_test)"
   ]
  },
  {
   "cell_type": "code",
   "execution_count": 13,
   "metadata": {},
   "outputs": [
    {
     "name": "stdout",
     "output_type": "stream",
     "text": [
      "'\\n            This is an interesting paper showing that purified rainbow trout RBC exposed to IPNV do not get infected by the virus, but nevertheless raise an innate antiviral response. The latter is shown by the induction of IFN and a few IFN related genes and that conditioned media from IPNV exposed RBC inhibits IPNV infection of the susceptibe cell line CHSE-214. Many methods are used to approach the hypotheses and the results appear provide new information on the very intriguing role of fish red blood cells in interaction with viruses, in particular by showing that the cells can induce an antiviral immune response without being infected.\\n             The main comments are related to how the authors have interpreted the results far beyond what they have shown, by drawing links to adaptive immune mechanisms and vaccination approaches, while they could have discussed antiviral protection mechanisms in further detail and with more scientific basis. There are also some missing information regarding the experimental details, and far too extensive use of an unpublished paper in the discussion of the data. \\xa0\\xa0\\n             Comments: \\n                \\n                    \\n                        The title is generalizing beyond the scope of the paper, and should specify the virus and the host studied (IPNV and onchorhynchus mykiss).\\n                    \\n                    \\n                        Abstract and Discussion: The statement that antiviral responses in RBCs could be targets for DNA vaccines is not linked to the data presented here. A vaccination effect requires antigen presentation and adaptive immune activation for long term protection, which is not touched upon at all in this paper. If this point should be made, the authors should in the discussion provide some explanation and scientific basis for \\xa0how they think\\xa0 antiviral responses in RBCs to an uninfecting virus make them promising DNA vaccination targets, and how directing DNA vaccines to RBC should be \\xa0performed.\\n                    \\n                    \\n                        Introduction/Discussion: An unpublished paper: Nombela I, Puente-Marin S et al. is referred to in introduction and several times in the discussion. The content of this paper cannot be evaluated. The authors should primarily use published work in their discussion.\\n                    \\n                    \\n                        Introduction. There are many language mistakes in the introduction (and elsewhere). Please have the manuscript corrected linguistically. Trout is not a specific annotation.\\n                    \\n                    \\n                        Please specify that the work is performed for rainbow trout. Diseases are not agents. Diseases cause losses not loses. Viral titer not titters. \\n                            Aquabirnavirus genus not \\n                            Aquabirnaviridae genera, it is wrong suffix and it is not plural. etc.\\n                    \\n                    \\n                        The role of IPNV - VP3 is not completely unknown, there are several papers describing its function.\\n                    \\n                    \\n                        \\n                            “The VP2 epitopes are the target for antibodies against different serotypes.” Not \\n                            against but distinguishing between. It should be noted that the serotyping system is based upon the use of rabbit antisera, it is not based on the immune response from fish.\\n                    \\n                    \\n                        No observations of viral factories has been observed for ISAV.\\n                    \\n                    \\n                        \\n                            “The fact that these cells are nucleated \\n                            implies that fish RBCs can respond to different stimulus and control cellular processes”. Not really, having a nucleus doesn’t really prove that the cell can react various stimuli, that have to shown.\\n                    \\n                    \\n                        Materials and Methods: Number of fish used not given. Unclear if the fish used were tested for previous viral infections.\\n                    \\n                    \\n                        18S is given as the reference gene target in the text, but in the table EF1a primers are given. Results is not clear on what was used.\\n                    \\n                    \\n                        Results: Unclear if the “n” in experiments is number of fish or parallel ex vivo infections.\\n                    \\n                    \\n                        \\n                            “IPNV segment A (IPNV-A) RNA levels inside RBCs and CHSE-214 cell line were similar at 1 and 3 hours post-exposure (hpe) (Figure 1A). After 3 hpe, IPNV-A RNA level was 4 logarithms lower in RBCs in comparison with CHSE-214 cells.” \\xa0Do you mean from 6 hpe and not after 3 hpe?\\xa0 It is not 4 logs difference according to Fig 1 it is 3 log at 6 hpe and 5 log at 26 hpe. It is nevenr 4 logs?\\n                    \\n                    \\n                        What is the detection limit for VP3 in flow cytometri?\\n                    \\n                    \\n                        Discussion: \\n                            \\n                                \\n                                    The small trend towards a difference in cytokine levels Fig 4A should not be discussed as “downregulation”, and cannot be interpreted as a cell shut-off of the proteome by the infection. Most likely the slight trend towards down-regulation is just an effect of the relative upregulation of the IFN-I pathway (ISGs)\\n                                \\n                                \\n                                    Authors say in the discussion regarding the protective effect of conditioned media: “\\n                                        To elucidate which factors could be implicated in this protection, we evaluated the production of cytokines in IPNV-exposed RBCs” It is well known that IFN-I, and not to the same degree cytokines, confers a direct antiviral response on surrounding cells. The upregulation of IFN-I is already shown at the transcriptional level, and the upregulation of ISGs directly indicates IFN activity. The main role of cytokines is to attract and activate immune cells and mobilize an immune response in tissue in vivo. The authors should clarify this to show that they understand the difference between local antiviral protection and crosstalk with the immune system.\\xa0\\n                                \\n                             \\n                    \\n                \\n            \\n            We confirm that we have read this submission and believe that we have an appropriate level of expertise to confirm that it is of an acceptable scientific standard, however we have significant reservations, as outlined above.\\n        '\n"
     ]
    }
   ],
   "source": [
    "for row in txt_test:\n",
    "    print(repr(row))"
   ]
  },
  {
   "cell_type": "code",
   "execution_count": 14,
   "metadata": {},
   "outputs": [
    {
     "name": "stdout",
     "output_type": "stream",
     "text": [
      "This is an interesting paper showing that purified rainbow trout RBC exposed to IPNV do not get infected by the virus, but nevertheless raise an innate antiviral response.\n",
      "\n",
      "\n",
      "The latter is shown by the induction of IFN and a few IFN related genes and that conditioned media from IPNV exposed RBC inhibits IPNV infection of the susceptibe cell line CHSE-214.\n",
      "\n",
      "\n",
      "Many methods are used to approach the hypotheses and the results appear provide new information on the very intriguing role of fish red blood cells in interaction with viruses, in particular by showing that the cells can induce an antiviral immune response without being infected.\n",
      "\n",
      "\n",
      "The main comments are related to how the authors have interpreted the results far beyond what they have shown, by drawing links to adaptive immune mechanisms and vaccination approaches, while they could have discussed antiviral protection mechanisms in further detail and with more scientific basis.\n",
      "\n",
      "\n",
      "There are also some missing information regarding the experimental details, and far too extensive use of an unpublished paper in the discussion of the data.\n",
      "\n",
      "\n",
      "The title is generalizing beyond the scope of the paper, and should specify the virus and the host studied (IPNV and onchorhynchus mykiss).\n",
      "\n",
      "\n",
      "Abstract and Discussion: The statement that antiviral responses in RBCs could be targets for DNA vaccines is not linked to the data presented here.\n",
      "\n",
      "\n",
      "A vaccination effect requires antigen presentation and adaptive immune activation for long term protection, which is not touched upon at all in this paper.\n",
      "\n",
      "\n",
      "If this point should be made, the authors should in the discussion provide some explanation and scientific basis for how they think antiviral responses in RBCs to an uninfecting virus make them promising DNA vaccination targets, and how directing DNA vaccines to RBC should be performed.\n",
      "\n",
      "\n",
      "Introduction Discussion: An unpublished paper: Nombela I, Puente-Marin S et al. is referred to in introduction and several times in the discussion.\n",
      "\n",
      "\n",
      "The content of this paper cannot be evaluated.\n",
      "\n",
      "\n",
      "The authors should primarily use published work in their discussion.\n",
      "\n",
      "\n",
      "There are many language mistakes in the introduction (and elsewhere).\n",
      "\n",
      "\n",
      "Please have the manuscript corrected linguistically.\n",
      "\n",
      "\n",
      "Trout is not a specific annotation.\n",
      "\n",
      "\n",
      "Please specify that the work is performed for rainbow trout.\n",
      "\n",
      "\n",
      "Diseases are not agents.\n",
      "\n",
      "\n",
      "Diseases cause losses not loses.\n",
      "\n",
      "\n",
      "Viral titer not titters.\n",
      "\n",
      "\n",
      "Aquabirnavirus genus not\n",
      "\n",
      "\n",
      "Aquabirnaviridae genera, it is wrong suffix and it is not plural.\n",
      "\n",
      "\n",
      "The role of IPNV - VP3 is not completely unknown, there are several papers describing its function.\n",
      "\n",
      "\n",
      "The VP2 epitopes are the target for antibodies against different serotypes.\n",
      "\n",
      "\n",
      "against but distinguishing between.\n",
      "\n",
      "\n",
      "It should be noted that the serotyping system is based upon the use of rabbit antisera, it is not based on the immune response from fish.\n",
      "\n",
      "\n",
      "No observations of viral factories has been observed for ISAV.\n",
      "\n",
      "\n",
      "The fact that these cells are nucleated\n",
      "\n",
      "\n",
      "implies that fish RBCs can respond to different stimulus and control cellular processes .\n",
      "\n",
      "\n",
      "Not really, having a nucleus doesn t really prove that the cell can react various stimuli, that have to shown.\n",
      "\n",
      "\n",
      "Materials and Methods: Number of fish used not given.\n",
      "\n",
      "\n",
      "Unclear if the fish used were tested for previous viral infections.\n",
      "\n",
      "\n",
      "18S is given as the reference gene target in the text, but in the table EF1a primers are given.\n",
      "\n",
      "\n",
      "Results is not clear on what was used.\n",
      "\n",
      "\n",
      "Results: Unclear if the n in experiments is number of fish or parallel ex vivo infections.\n",
      "\n",
      "\n",
      "IPNV segment A (IPNV-A) RNA levels inside RBCs and CHSE-214 cell line were similar at 1 and 3 hours post-exposure (hpe) (Figure 1A).\n",
      "\n",
      "\n",
      "After 3 hpe, IPNV-A RNA level was 4 logarithms lower in RBCs in comparison with CHSE-214 cells.\n",
      "\n",
      "\n",
      "Do you mean from 6 hpe and not after 3 hpe?\n",
      "\n",
      "\n",
      "It is not 4 logs difference according to Fig 1 it is 3 log at 6 hpe and 5 log at 26 hpe.\n",
      "\n",
      "\n",
      "It is nevenr 4 logs?\n",
      "\n",
      "\n",
      "What is the detection limit for VP3 in flow cytometri?\n",
      "\n",
      "\n",
      "The small trend towards a difference in cytokine levels Fig 4A should not be discussed as downregulation , and cannot be interpreted as a cell shut-off of the proteome by the infection.\n",
      "\n",
      "\n",
      "Most likely the slight trend towards down-regulation is just an effect of the relative upregulation of the IFN-I pathway (ISGs)\n",
      "\n",
      "\n",
      "Authors say in the discussion regarding the protective effect of conditioned media:\n",
      "\n",
      "\n",
      "To elucidate which factors could be implicated in this protection, we evaluated the production of cytokines in IPNV-exposed RBCs It is well known that IFN-I, and not to the same degree cytokines, confers a direct antiviral response on surrounding cells.\n",
      "\n",
      "\n",
      "The upregulation of IFN-I is already shown at the transcriptional level, and the upregulation of ISGs directly indicates IFN activity.\n",
      "\n",
      "\n",
      "The main role of cytokines is to attract and activate immune cells and mobilize an immune response in tissue in vivo.\n",
      "\n",
      "\n",
      "The authors should clarify this to show that they understand the difference between local antiviral protection and crosstalk with the immune system.\n",
      "\n",
      "\n",
      "We confirm that we have read this submission and believe that we have an appropriate level of expertise to confirm that it is of an acceptable scientific standard, however we have significant reservations, as outlined above.\n",
      "\n",
      "\n"
     ]
    }
   ],
   "source": [
    "for i in txt_after[0]:\n",
    "    print(i)\n",
    "    print('\\n')\n",
    "#txt_after"
   ]
  },
  {
   "cell_type": "markdown",
   "metadata": {},
   "source": [
    "Run sentencizer."
   ]
  },
  {
   "cell_type": "code",
   "execution_count": 16,
   "metadata": {},
   "outputs": [
    {
     "data": {
      "application/vnd.jupyter.widget-view+json": {
       "model_id": "7d2dfe27156b4ec5a8f53480ee117c0c",
       "version_major": 2,
       "version_minor": 0
      },
      "text/plain": [
       "HBox(children=(IntProgress(value=0, max=7297), HTML(value='')))"
      ]
     },
     "metadata": {},
     "output_type": "display_data"
    },
    {
     "name": "stdout",
     "output_type": "stream",
     "text": [
      "\n",
      "Time to clean up everything: 3.9 mins\n"
     ]
    }
   ],
   "source": [
    "t = time()\n",
    "data_df['sentences'] = cs(data_df['review'])\n",
    "print('Time to clean up everything: {} mins'.format(round((time() - t) / 60, 2)))"
   ]
  },
  {
   "cell_type": "code",
   "execution_count": 17,
   "metadata": {},
   "outputs": [
    {
     "name": "stdout",
     "output_type": "stream",
     "text": [
      "<class 'pandas.core.frame.DataFrame'>\n",
      "Int64Index: 7297 entries, 0 to 7296\n",
      "Data columns (total 4 columns):\n",
      "manuscript_ID    7297 non-null object\n",
      "review_ID        7297 non-null object\n",
      "review           7297 non-null object\n",
      "sentences        7297 non-null object\n",
      "dtypes: object(4)\n",
      "memory usage: 285.0+ KB\n"
     ]
    }
   ],
   "source": [
    "#Replace 'nan' with proper NaN\n",
    "data_df.replace(to_replace=['nan'], value=np.nan, inplace=True)\n",
    "#Drop NaNs\n",
    "data_df.drop(data_df.sentences[data_df.sentences.isna() == True].index,inplace=True)\n",
    "data_df.info()"
   ]
  },
  {
   "cell_type": "markdown",
   "metadata": {},
   "source": [
    "Flatten the dataframe."
   ]
  },
  {
   "cell_type": "code",
   "execution_count": 19,
   "metadata": {},
   "outputs": [
    {
     "data": {
      "text/html": [
       "<div>\n",
       "<style scoped>\n",
       "    .dataframe tbody tr th:only-of-type {\n",
       "        vertical-align: middle;\n",
       "    }\n",
       "\n",
       "    .dataframe tbody tr th {\n",
       "        vertical-align: top;\n",
       "    }\n",
       "\n",
       "    .dataframe thead th {\n",
       "        text-align: right;\n",
       "    }\n",
       "</style>\n",
       "<table border=\"1\" class=\"dataframe\">\n",
       "  <thead>\n",
       "    <tr style=\"text-align: right;\">\n",
       "      <th></th>\n",
       "      <th>manuscript_ID</th>\n",
       "      <th>review_ID</th>\n",
       "      <th>sentences</th>\n",
       "    </tr>\n",
       "  </thead>\n",
       "  <tbody>\n",
       "    <tr>\n",
       "      <th>0</th>\n",
       "      <td>10.12688/f1000research.1-1.v1</td>\n",
       "      <td>10.5256/f1000research.50.r101</td>\n",
       "      <td>This is an interesting article.</td>\n",
       "    </tr>\n",
       "    <tr>\n",
       "      <th>1</th>\n",
       "      <td>10.12688/f1000research.1-1.v1</td>\n",
       "      <td>10.5256/f1000research.50.r101</td>\n",
       "      <td>However, I am sure there are some sections whe...</td>\n",
       "    </tr>\n",
       "    <tr>\n",
       "      <th>2</th>\n",
       "      <td>10.12688/f1000research.1-1.v1</td>\n",
       "      <td>10.5256/f1000research.50.r101</td>\n",
       "      <td>I confirm that I have read this submission and...</td>\n",
       "    </tr>\n",
       "    <tr>\n",
       "      <th>3</th>\n",
       "      <td>10.12688/f1000research.1-1.v1</td>\n",
       "      <td>10.5256/f1000research.50.r100</td>\n",
       "      <td>This paper has a number of serious flaws.</td>\n",
       "    </tr>\n",
       "    <tr>\n",
       "      <th>4</th>\n",
       "      <td>10.12688/f1000research.1-1.v1</td>\n",
       "      <td>10.5256/f1000research.50.r100</td>\n",
       "      <td>a) The literature is quoted selectively and is...</td>\n",
       "    </tr>\n",
       "  </tbody>\n",
       "</table>\n",
       "</div>"
      ],
      "text/plain": [
       "                   manuscript_ID                      review_ID  \\\n",
       "0  10.12688/f1000research.1-1.v1  10.5256/f1000research.50.r101   \n",
       "1  10.12688/f1000research.1-1.v1  10.5256/f1000research.50.r101   \n",
       "2  10.12688/f1000research.1-1.v1  10.5256/f1000research.50.r101   \n",
       "3  10.12688/f1000research.1-1.v1  10.5256/f1000research.50.r100   \n",
       "4  10.12688/f1000research.1-1.v1  10.5256/f1000research.50.r100   \n",
       "\n",
       "                                           sentences  \n",
       "0                    This is an interesting article.  \n",
       "1  However, I am sure there are some sections whe...  \n",
       "2  I confirm that I have read this submission and...  \n",
       "3          This paper has a number of serious flaws.  \n",
       "4  a) The literature is quoted selectively and is...  "
      ]
     },
     "execution_count": 19,
     "metadata": {},
     "output_type": "execute_result"
    }
   ],
   "source": [
    "flatten_df = pd.DataFrame({\n",
    "        \"manuscript_ID\": np.repeat(data_df.manuscript_ID.values, data_df.sentences.str.len()),\n",
    "        \"review_ID\": np.repeat(data_df.review_ID.values, data_df.sentences.str.len()), \n",
    "        \"sentences\": list(itertools.chain.from_iterable(data_df.sentences))})\n",
    "flatten_df.head()"
   ]
  },
  {
   "cell_type": "code",
   "execution_count": 20,
   "metadata": {},
   "outputs": [
    {
     "name": "stdout",
     "output_type": "stream",
     "text": [
      "<class 'pandas.core.frame.DataFrame'>\n",
      "RangeIndex: 134393 entries, 0 to 134392\n",
      "Data columns (total 3 columns):\n",
      "manuscript_ID    134393 non-null object\n",
      "review_ID        134393 non-null object\n",
      "sentences        134393 non-null object\n",
      "dtypes: object(3)\n",
      "memory usage: 3.1+ MB\n"
     ]
    }
   ],
   "source": [
    "flatten_df.info()"
   ]
  },
  {
   "cell_type": "markdown",
   "metadata": {},
   "source": [
    "Clean the results."
   ]
  },
  {
   "cell_type": "code",
   "execution_count": 24,
   "metadata": {},
   "outputs": [
    {
     "name": "stdout",
     "output_type": "stream",
     "text": [
      "<class 'pandas.core.frame.DataFrame'>\n",
      "RangeIndex: 130846 entries, 0 to 130845\n",
      "Data columns (total 3 columns):\n",
      "manuscript_ID    130846 non-null object\n",
      "review_ID        130846 non-null object\n",
      "sentences        130846 non-null object\n",
      "dtypes: object(3)\n",
      "memory usage: 3.0+ MB\n"
     ]
    }
   ],
   "source": [
    "#Replace 'nan' with nan in sentences\n",
    "flatten_df.replace(to_replace=['nan'], value=np.nan,inplace=True)\n",
    "#Drop NaNs\n",
    "flatten_df.drop(flatten_df.sentences[flatten_df.sentences.str.len().isna() == True].index,inplace=True)\n",
    "#Drop entries with less than ten characters (garbage)\n",
    "flatten_df.drop(flatten_df.sentences[flatten_df.sentences.str.len() < 10].index,inplace=True)\n",
    "#Reset index\n",
    "flatten_df.reset_index(drop=True,inplace=True)\n",
    "flatten_df.info()"
   ]
  },
  {
   "cell_type": "markdown",
   "metadata": {},
   "source": [
    "Save dataframe with sentences."
   ]
  },
  {
   "cell_type": "code",
   "execution_count": 26,
   "metadata": {},
   "outputs": [],
   "source": [
    "path_save_pickle = \"../pickles/f1000_sentencized.pkl\"\n",
    "flatten_df.to_pickle(path_save_pickle)"
   ]
  },
  {
   "cell_type": "code",
   "execution_count": null,
   "metadata": {},
   "outputs": [],
   "source": []
  }
 ],
 "metadata": {
  "kernelspec": {
   "display_name": "Python 3",
   "language": "python",
   "name": "python3"
  },
  "language_info": {
   "codemirror_mode": {
    "name": "ipython",
    "version": 3
   },
   "file_extension": ".py",
   "mimetype": "text/x-python",
   "name": "python",
   "nbconvert_exporter": "python",
   "pygments_lexer": "ipython3",
   "version": "3.6.8"
  }
 },
 "nbformat": 4,
 "nbformat_minor": 4
}
