{
 "cells": [
  {
   "cell_type": "markdown",
   "metadata": {},
   "source": [
    "# Text sentencizer"
   ]
  },
  {
   "cell_type": "markdown",
   "metadata": {},
   "source": [
    "## Configuration"
   ]
  },
  {
   "cell_type": "code",
   "execution_count": null,
   "metadata": {},
   "outputs": [],
   "source": [
    "import csv\n",
    "import numpy as np\n",
    "import pandas as pd\n",
    "import matplotlib.pyplot as plt\n",
    "import seaborn as sns\n",
    "sns.set_style(\"whitegrid\")\n",
    "import itertools\n",
    "from tqdm import tqdm_notebook as tqdm \n",
    "from time import time  # To time our operations"
   ]
  },
  {
   "cell_type": "markdown",
   "metadata": {},
   "source": [
    "## Data Extraction & Cleaning"
   ]
  },
  {
   "cell_type": "code",
   "execution_count": null,
   "metadata": {},
   "outputs": [],
   "source": [
    "df = pd.read_csv('../data/reviews/f1000_reviews.csv')\n",
    "df.drop(columns=['Unnamed: 0'],inplace=True)"
   ]
  },
  {
   "cell_type": "code",
   "execution_count": null,
   "metadata": {},
   "outputs": [],
   "source": [
    "df.info()"
   ]
  },
  {
   "cell_type": "markdown",
   "metadata": {},
   "source": [
    "Remove null entries from all columns except \"minor comments\". Remove duplicates from the 'major_comment' section."
   ]
  },
  {
   "cell_type": "code",
   "execution_count": null,
   "metadata": {},
   "outputs": [],
   "source": [
    "# Replace string 'None' with actual None\n",
    "df = df.replace(to_replace=['None','none'], value=np.nan)\n",
    "d = df.isna().any()\n",
    "data_df = df.dropna(subset = d[d.values == True].index.values).drop_duplicates(subset = ['review']).copy()\n",
    "#Drop entries with 'major_comments' having less than two characters\n",
    "data_df.drop(data_df.review[data_df.review.str.len() < 2].index,inplace=True)\n",
    "data_df.reset_index(drop=True,inplace=True)"
   ]
  },
  {
   "cell_type": "code",
   "execution_count": null,
   "metadata": {},
   "outputs": [],
   "source": [
    "data_df.info()"
   ]
  },
  {
   "cell_type": "markdown",
   "metadata": {},
   "source": [
    "Test preprocessing function."
   ]
  },
  {
   "cell_type": "code",
   "execution_count": null,
   "metadata": {
    "scrolled": false
   },
   "outputs": [],
   "source": [
    "from peertax.sentencizer_LDA import custom_sentencizer as cs\n",
    "from random import randint\n",
    "num = randint(0,len(data_df))\n",
    "txt_test = [data_df.loc[num,'review']]\n",
    "txt_after = cs(txt_test)"
   ]
  },
  {
   "cell_type": "code",
   "execution_count": null,
   "metadata": {},
   "outputs": [],
   "source": [
    "for row in txt_test:\n",
    "    print(repr(row))"
   ]
  },
  {
   "cell_type": "code",
   "execution_count": null,
   "metadata": {},
   "outputs": [],
   "source": [
    "for i in txt_after[0]:\n",
    "    print(i)\n",
    "    print('\\n')\n",
    "#txt_after"
   ]
  },
  {
   "cell_type": "markdown",
   "metadata": {},
   "source": [
    "Run sentencizer."
   ]
  },
  {
   "cell_type": "code",
   "execution_count": null,
   "metadata": {},
   "outputs": [],
   "source": [
    "t = time()\n",
    "data_df['sentences'] = cs(data_df['review'])\n",
    "print('Time to clean up everything: {} mins'.format(round((time() - t) / 60, 2)))"
   ]
  },
  {
   "cell_type": "code",
   "execution_count": null,
   "metadata": {},
   "outputs": [],
   "source": [
    "#Replace 'nan' with proper NaN\n",
    "data_df.replace(to_replace=['nan'], value=np.nan, inplace=True)\n",
    "#Drop NaNs\n",
    "data_df.drop(data_df.sentences[data_df.sentences.isna() == True].index,inplace=True)\n",
    "data_df.info()"
   ]
  },
  {
   "cell_type": "markdown",
   "metadata": {},
   "source": [
    "Flatten the dataframe."
   ]
  },
  {
   "cell_type": "code",
   "execution_count": null,
   "metadata": {},
   "outputs": [],
   "source": [
    "flatten_df = pd.DataFrame({\n",
    "        \"manuscript_ID\": np.repeat(data_df.manuscript_ID.values, data_df.sentences.str.len()),\n",
    "        \"review_ID\": np.repeat(data_df.review_ID.values, data_df.sentences.str.len()), \n",
    "        \"sentences\": list(itertools.chain.from_iterable(data_df.sentences))})\n",
    "flatten_df.head()"
   ]
  },
  {
   "cell_type": "code",
   "execution_count": null,
   "metadata": {},
   "outputs": [],
   "source": [
    "flatten_df.info()"
   ]
  },
  {
   "cell_type": "markdown",
   "metadata": {},
   "source": [
    "Clean the results."
   ]
  },
  {
   "cell_type": "code",
   "execution_count": null,
   "metadata": {},
   "outputs": [],
   "source": [
    "#Replace 'nan' with nan in sentences\n",
    "flatten_df.replace(to_replace=['nan'], value=np.nan,inplace=True)\n",
    "#Drop NaNs\n",
    "flatten_df.drop(flatten_df.sentences[flatten_df.sentences.str.len().isna() == True].index,inplace=True)\n",
    "#Drop entries with less than ten characters (garbage)\n",
    "flatten_df.drop(flatten_df.sentences[flatten_df.sentences.str.len() < 10].index,inplace=True)\n",
    "#Reset index\n",
    "flatten_df.reset_index(drop=True,inplace=True)\n",
    "flatten_df.info()"
   ]
  },
  {
   "cell_type": "markdown",
   "metadata": {},
   "source": [
    "Save dataframe with sentences."
   ]
  },
  {
   "cell_type": "code",
   "execution_count": null,
   "metadata": {},
   "outputs": [],
   "source": [
    "path_save_tsv = \"../pickles/f1000_sentencized.tsv\"\n",
    "flatten_df.to_csv(path_save_tsv, sep = '\\t', quoting=csv.QUOTE_NONE)"
   ]
  },
  {
   "cell_type": "code",
   "execution_count": null,
   "metadata": {},
   "outputs": [],
   "source": []
  }
 ],
 "metadata": {
  "kernelspec": {
   "display_name": "Python 3",
   "language": "python",
   "name": "python3"
  },
  "language_info": {
   "codemirror_mode": {
    "name": "ipython",
    "version": 3
   },
   "file_extension": ".py",
   "mimetype": "text/x-python",
   "name": "python",
   "nbconvert_exporter": "python",
   "pygments_lexer": "ipython3",
   "version": "3.6.8"
  }
 },
 "nbformat": 4,
 "nbformat_minor": 4
}
