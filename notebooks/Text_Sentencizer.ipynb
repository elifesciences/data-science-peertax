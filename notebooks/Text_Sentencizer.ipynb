{
 "cells": [
  {
   "cell_type": "markdown",
   "metadata": {},
   "source": [
    "# Text sentencizer"
   ]
  },
  {
   "cell_type": "markdown",
   "metadata": {},
   "source": [
    "## Configuration"
   ]
  },
  {
   "cell_type": "code",
   "execution_count": 1,
   "metadata": {},
   "outputs": [],
   "source": [
    "import csv\n",
    "import numpy as np\n",
    "import pandas as pd\n",
    "import matplotlib.pyplot as plt\n",
    "import seaborn as sns\n",
    "sns.set_style(\"whitegrid\")\n",
    "import itertools\n",
    "from tqdm import tqdm_notebook as tqdm \n",
    "from time import time  # To time our operations"
   ]
  },
  {
   "cell_type": "markdown",
   "metadata": {},
   "source": [
    "## Data Extraction & Cleaning"
   ]
  },
  {
   "cell_type": "code",
   "execution_count": 2,
   "metadata": {},
   "outputs": [],
   "source": [
    "df = pd.read_csv('../data/reviews/wellcome_reviews.csv')\n",
    "df.drop(columns=['Unnamed: 0'],inplace=True)"
   ]
  },
  {
   "cell_type": "code",
   "execution_count": 3,
   "metadata": {},
   "outputs": [
    {
     "name": "stdout",
     "output_type": "stream",
     "text": [
      "<class 'pandas.core.frame.DataFrame'>\n",
      "RangeIndex: 1735 entries, 0 to 1734\n",
      "Data columns (total 3 columns):\n",
      "manuscript_ID    1735 non-null object\n",
      "review_ID        1735 non-null object\n",
      "review           1735 non-null object\n",
      "dtypes: object(3)\n",
      "memory usage: 40.7+ KB\n"
     ]
    }
   ],
   "source": [
    "df.info()"
   ]
  },
  {
   "cell_type": "markdown",
   "metadata": {},
   "source": [
    "Remove null entries from all columns except \"minor comments\". Remove duplicates from the 'major_comment' section."
   ]
  },
  {
   "cell_type": "code",
   "execution_count": 4,
   "metadata": {},
   "outputs": [],
   "source": [
    "# Replace string 'None' with actual None\n",
    "df = df.replace(to_replace=['None','none'], value=np.nan)\n",
    "d = df.isna().any()\n",
    "data_df = df.dropna(subset = d[d.values == True].index.values).drop_duplicates(subset = ['review']).copy()\n",
    "#Drop entries with 'major_comments' having less than two characters\n",
    "data_df.drop(data_df.review[data_df.review.str.len() < 2].index,inplace=True)\n",
    "data_df.reset_index(drop=True,inplace=True)"
   ]
  },
  {
   "cell_type": "code",
   "execution_count": 5,
   "metadata": {},
   "outputs": [
    {
     "name": "stdout",
     "output_type": "stream",
     "text": [
      "<class 'pandas.core.frame.DataFrame'>\n",
      "RangeIndex: 1206 entries, 0 to 1205\n",
      "Data columns (total 3 columns):\n",
      "manuscript_ID    1206 non-null object\n",
      "review_ID        1206 non-null object\n",
      "review           1206 non-null object\n",
      "dtypes: object(3)\n",
      "memory usage: 28.3+ KB\n"
     ]
    }
   ],
   "source": [
    "data_df.info()"
   ]
  },
  {
   "cell_type": "code",
   "execution_count": 6,
   "metadata": {},
   "outputs": [
    {
     "data": {
      "text/html": [
       "<div>\n",
       "<style scoped>\n",
       "    .dataframe tbody tr th:only-of-type {\n",
       "        vertical-align: middle;\n",
       "    }\n",
       "\n",
       "    .dataframe tbody tr th {\n",
       "        vertical-align: top;\n",
       "    }\n",
       "\n",
       "    .dataframe thead th {\n",
       "        text-align: right;\n",
       "    }\n",
       "</style>\n",
       "<table border=\"1\" class=\"dataframe\">\n",
       "  <thead>\n",
       "    <tr style=\"text-align: right;\">\n",
       "      <th></th>\n",
       "      <th>manuscript_ID</th>\n",
       "      <th>review_ID</th>\n",
       "      <th>review</th>\n",
       "    </tr>\n",
       "  </thead>\n",
       "  <tbody>\n",
       "    <tr>\n",
       "      <th>466</th>\n",
       "      <td>10.12688/wellcomeopenres.12469.1</td>\n",
       "      <td>10.21956/wellcomeopenres.13502.r26294</td>\n",
       "      <td>\\n            This is a well-written report fr...</td>\n",
       "    </tr>\n",
       "  </tbody>\n",
       "</table>\n",
       "</div>"
      ],
      "text/plain": [
       "                        manuscript_ID                              review_ID  \\\n",
       "466  10.12688/wellcomeopenres.12469.1  10.21956/wellcomeopenres.13502.r26294   \n",
       "\n",
       "                                                review  \n",
       "466  \\n            This is a well-written report fr...  "
      ]
     },
     "execution_count": 6,
     "metadata": {},
     "output_type": "execute_result"
    }
   ],
   "source": [
    "data_df[data_df['review_ID'] == '10.21956/wellcomeopenres.13502.r26294']"
   ]
  },
  {
   "cell_type": "markdown",
   "metadata": {},
   "source": [
    "Test preprocessing function."
   ]
  },
  {
   "cell_type": "code",
   "execution_count": 7,
   "metadata": {},
   "outputs": [
    {
     "data": {
      "text/plain": [
       "<_sre.SRE_Match object; span=(0, 1), match='2'>"
      ]
     },
     "execution_count": 7,
     "metadata": {},
     "output_type": "execute_result"
    }
   ],
   "source": [
    "import re\n",
    "boundary_d = re.compile(r'[0-9]')\n",
    "boundary_d.match('2015')\n",
    "            "
   ]
  },
  {
   "cell_type": "code",
   "execution_count": 8,
   "metadata": {
    "scrolled": true
   },
   "outputs": [
    {
     "data": {
      "application/vnd.jupyter.widget-view+json": {
       "model_id": "d7e938f1b0e34d07a1ec9fceb769af24",
       "version_major": 2,
       "version_minor": 0
      },
      "text/plain": [
       "HBox(children=(IntProgress(value=0, max=1), HTML(value='')))"
      ]
     },
     "metadata": {},
     "output_type": "display_data"
    },
    {
     "name": "stdout",
     "output_type": "stream",
     "text": [
      "\n"
     ]
    }
   ],
   "source": [
    "from peertax.sentencizer_LDA import custom_sentencizer as cs\n",
    "from random import randint\n",
    "#num = randint(0,len(data_df))\n",
    "num = 466\n",
    "txt_test = [data_df.loc[num,'review']]\n",
    "txt_after = cs(txt_test)"
   ]
  },
  {
   "cell_type": "code",
   "execution_count": 9,
   "metadata": {},
   "outputs": [
    {
     "name": "stdout",
     "output_type": "stream",
     "text": [
      "'\\n            This is a well-written report from leading investigators in the field of HTLV-I replication. In this study, the authors screened more than 19 000 cells derived from five naturally infected T cell clones isolated from PBMCs of HTLV-1 healthy donors. They used single-molecule RNA FISH to quantify, at the single cell level, the transcripts of two main products of the HTLV-I pX region, Tax encoded by the plus-strand of the provirus and HBZ encoded by its minus-strand. They observed a strong intra- and inter-clonal heterogeneity in the expression of \\n                tax and\\n                 hbz genes with Tax being expressed at high levels in few cells whereas \\n                hbz is expressed at lower levels in most cells. They also report that both genes are transcribed in intermittent bursts and that tax expression is enhanced in the absence of HBZ but that \\n                hbz expression is enhanced by Tax. Finally, they show that HBZ expression is mostly associated with G2/M phases of the cell cycle, and that its abundance correlates with the nuclear volume. They conclude that the main function of this frequent low level of \\n                hbz transcript and protein is to maintain clonal persistence and that conversely, intense transient intermittent bursts of \\n                tax drive viral replication and clonal proliferation while escaping the robust anti Tax CTL response. These results strongly suggest that the plus strand of HTLV-I is expressed in bursts \\n                in vivo explaining the hitherto unexplained paradoxical observations of a strong anti-Tax immune response in all immuno-competent HTLV-I infected individuals while Tax is undetectable in their freshly isolated PBMCs. This is an important study in the field that defeats multiple previous paradigms. The following experiments should strengthen the manuscript:\\n             \\xa0 \\n                \\n                    \\n                        Authors used short-term cultures of activated cells in order to isolate individual cells. However, they need to show\\n                             tax and\\n                             hbz expression at the single cell level in freshly isolated PBMCs since cell culture and activation are likely to affect\\n                             tax and \\n                            hbz expression.\\n                    \\n                    \\n                        Figure 1: It is surprising that 1% of uninfected clones (negative control) express 50 \\n                            tax transcripts and only 1 \\n                            hbz transcript. More uninfected clones should be tested. Furthermore, in order to validate \\n                            tax and \\n                            hbz probes, they show the specificity/sensitivity of smFISH on one clone generated from HTLV-I infected cell lines like having different expression levels of Tax and HBZ.\\n                    \\n                    \\n                        It is important to show the viral load and the status of expression of Tax and HBZ in total PBMCs of the 5 HTLV-I positive donors, and compare it with that of the 5 T cell clones that were selected. How can the authors be sure that the selected clone from each donor is a representative one of all the HTLV-1 infected cells in that individual? Did they screen other clones from each of the five donors?\\n                    \\n                    \\n                        Figure 2: Images of \\n                            tax bursts are more convincing that those of \\n                            hbz. Figure 2D shows that the estimated number of \\n                            hbz RNA per burst is around 3 to 4 with little intercellular variation, which is not classical for bursts. How can the authors rule out the possibility that these represent superposition of multiple transcripts. In 2C, they show a three-fold reduction in the frequency of \\n                            hbz bursts in the presence of actinomycine D compared to a total disappearance of \\n                            tax bursts. What is the percentage reduction of \\n                            hbz bursts relative to the reduction of total \\n                            hbz transcripts?\\n                    \\n                    \\n                        Figure 3: Estimation of intranuclear mRNA should be done in zStacks to rule out counting transcripts above and below the nucleus.\\n                    \\n                    \\n                        Figure 4: Authors show increased frequency of \\n                            hbz bursts in high tax positive cells. Again, what about the total amount of \\n                            hbz transcripts in these cells?\\n                    \\n                    \\n                        Elevated \\n                            tax and \\n                            hbz expression in S and G2/M phase of the cell cycle is solely based on the integrated intensity of the DAPI stained nucleus (2n versus 4n). It would be nice to perform synchronization of cells to confirm these findings.\\n                    \\n                    \\n                        Supplementary Figure 9: The negative control (uninfected cells) and clone E should be shown.\\n                    \\n                    \\n                        Supplementary Figure 10: The odds ratio for G2/M phase is much higher for cells with >4 \\n                            hbz compared to cells with >99 tax whereas that for S phase is quite similar. Does this indicate that \\n                            hbz expression results in G2/M arrest? Is there any correlation between G2/M phase and nuclear size in these cells?\\n                    \\n                \\n            \\n            We confirm that we have read this submission and believe that we have an appropriate level of expertise to confirm that it is of an acceptable scientific standard.\\n        '\n"
     ]
    }
   ],
   "source": [
    "for row in txt_test:\n",
    "    print(repr(row))"
   ]
  },
  {
   "cell_type": "code",
   "execution_count": 10,
   "metadata": {
    "scrolled": false
   },
   "outputs": [
    {
     "name": "stdout",
     "output_type": "stream",
     "text": [
      "This is a well-written report from leading investigators in the field of HTLV-I replication.\n",
      "\n",
      "\n",
      "In this study, the authors screened more than 19 000 cells derived from five naturally infected T cell clones isolated from PBMCs of HTLV-1 healthy donors.\n",
      "\n",
      "\n",
      "They used single-molecule RNA FISH to quantify, at the single cell level, the transcripts of two main products of the HTLV-I pX region, Tax encoded by the plus-strand of the provirus and HBZ encoded by its minus-strand.\n",
      "\n",
      "\n",
      "They observed a strong intra- and inter-clonal heterogeneity in the expression of tax and hbz genes with Tax being expressed at high levels in few cells whereas hbz is expressed at lower levels in most cells.\n",
      "\n",
      "\n",
      "They also report that both genes are transcribed in intermittent bursts and that tax expression is enhanced in the absence of HBZ but that hbz expression is enhanced by Tax.\n",
      "\n",
      "\n",
      "Finally, they show that HBZ expression is mostly associated with G2 M phases of the cell cycle, and that its abundance correlates with the nuclear volume.\n",
      "\n",
      "\n",
      "They conclude that the main function of this frequent low level of hbz transcript and protein is to maintain clonal persistence and that conversely, intense transient intermittent bursts of tax drive viral replication and clonal proliferation while escaping the robust anti Tax CTL response.\n",
      "\n",
      "\n",
      "These results strongly suggest that the plus strand of HTLV-I is expressed in bursts in vivo explaining the hitherto unexplained paradoxical observations of a strong anti-Tax immune response in all immuno-competent HTLV-I infected individuals while Tax is undetectable in their freshly isolated PBMCs.\n",
      "\n",
      "\n",
      "This is an important study in the field that defeats multiple previous paradigms.\n",
      "\n",
      "\n",
      "The following experiments should strengthen the manuscript:\n",
      "\n",
      "\n",
      "Authors used short-term cultures of activated cells in order to isolate individual cells.\n",
      "\n",
      "\n",
      "However, they need to show tax and hbz expression at the single cell level in freshly isolated PBMCs since cell culture and activation are likely to affect tax and hbz expression.\n",
      "\n",
      "\n",
      "Figure 1: It is surprising that 1 of uninfected clones (negative control) express 50 tax transcripts and only 1 hbz transcript.\n",
      "\n",
      "\n",
      "More uninfected clones should be tested.\n",
      "\n",
      "\n",
      "Furthermore, in order to validate tax and hbz probes, they show the specificity sensitivity of smFISH on one clone generated from HTLV-I infected cell lines like having different expression levels of Tax and HBZ.\n",
      "\n",
      "\n",
      "It is important to show the viral load and the status of expression of Tax and HBZ in total PBMCs of the 5 HTLV-I positive donors, and compare it with that of the 5 T cell clones that were selected.\n",
      "\n",
      "\n",
      "How can the authors be sure that the selected clone from each donor is a representative one of all the HTLV-1 infected cells in that individual?\n",
      "\n",
      "\n",
      "Did they screen other clones from each of the five donors?\n",
      "\n",
      "\n",
      "Figure 2: Images of tax bursts are more convincing that those of hbz.\n",
      "\n",
      "\n",
      "Figure 2D shows that the estimated number of hbz RNA per burst is around 3 to 4 with little intercellular variation, which is not classical for bursts.\n",
      "\n",
      "\n",
      "How can the authors rule out the possibility that these represent superposition of multiple transcripts.\n",
      "\n",
      "\n",
      "In 2C, they show a three-fold reduction in the frequency of hbz bursts in the presence of actinomycine D compared to a total disappearance of tax bursts.\n",
      "\n",
      "\n",
      "What is the percentage reduction of hbz bursts relative to the reduction of total hbz transcripts?\n",
      "\n",
      "\n",
      "Figure 3: Estimation of intranuclear mRNA should be done in zStacks to rule out counting transcripts above and below the nucleus.\n",
      "\n",
      "\n",
      "Figure 4: Authors show increased frequency of hbz bursts in high tax positive cells.\n",
      "\n",
      "\n",
      "Again, what about the total amount of hbz transcripts in these cells?\n",
      "\n",
      "\n",
      "Elevated tax and hbz expression in S and G2 M phase of the cell cycle is solely based on the integrated intensity of the DAPI stained nucleus (2n versus 4n).\n",
      "\n",
      "\n",
      "It would be nice to perform synchronization of cells to confirm these findings.\n",
      "\n",
      "\n",
      "Supplementary Figure 9: The negative control (uninfected cells) and clone E should be shown.\n",
      "\n",
      "\n",
      "Supplementary Figure 10: The odds ratio for G2 M phase is much higher for cells with 4 hbz compared to cells with 99 tax whereas that for S phase is quite similar.\n",
      "\n",
      "\n",
      "Does this indicate that hbz expression results in G2 M arrest?\n",
      "\n",
      "\n",
      "Is there any correlation between G2 M phase and nuclear size in these cells?\n",
      "\n",
      "\n",
      "We confirm that we have read this submission and believe that we have an appropriate level of expertise to confirm that it is of an acceptable scientific standard.\n",
      "\n",
      "\n"
     ]
    }
   ],
   "source": [
    "for i in txt_after[0]:\n",
    "    print(i)\n",
    "    print('\\n')\n",
    "#txt_after"
   ]
  },
  {
   "cell_type": "markdown",
   "metadata": {},
   "source": [
    "Run sentencizer."
   ]
  },
  {
   "cell_type": "code",
   "execution_count": 11,
   "metadata": {},
   "outputs": [
    {
     "data": {
      "application/vnd.jupyter.widget-view+json": {
       "model_id": "571c8e09d03a496598bb46a159f3fcd3",
       "version_major": 2,
       "version_minor": 0
      },
      "text/plain": [
       "HBox(children=(IntProgress(value=0, max=1206), HTML(value='')))"
      ]
     },
     "metadata": {},
     "output_type": "display_data"
    },
    {
     "name": "stdout",
     "output_type": "stream",
     "text": [
      "\n",
      "Time to clean up everything: 0.98 mins\n"
     ]
    }
   ],
   "source": [
    "t = time()\n",
    "data_df['sentences'] = cs(data_df['review'])\n",
    "print('Time to clean up everything: {} mins'.format(round((time() - t) / 60, 2)))"
   ]
  },
  {
   "cell_type": "code",
   "execution_count": 12,
   "metadata": {},
   "outputs": [
    {
     "name": "stdout",
     "output_type": "stream",
     "text": [
      "<class 'pandas.core.frame.DataFrame'>\n",
      "Int64Index: 1206 entries, 0 to 1205\n",
      "Data columns (total 4 columns):\n",
      "manuscript_ID    1206 non-null object\n",
      "review_ID        1206 non-null object\n",
      "review           1206 non-null object\n",
      "sentences        1206 non-null object\n",
      "dtypes: object(4)\n",
      "memory usage: 47.1+ KB\n"
     ]
    }
   ],
   "source": [
    "#Replace 'nan' with proper NaN\n",
    "data_df.replace(to_replace=['nan'], value=np.nan, inplace=True)\n",
    "#Drop NaNs\n",
    "data_df.drop(data_df.sentences[data_df.sentences.isna() == True].index,inplace=True)\n",
    "data_df.info()"
   ]
  },
  {
   "cell_type": "markdown",
   "metadata": {},
   "source": [
    "Flatten the dataframe."
   ]
  },
  {
   "cell_type": "code",
   "execution_count": 13,
   "metadata": {},
   "outputs": [
    {
     "data": {
      "text/html": [
       "<div>\n",
       "<style scoped>\n",
       "    .dataframe tbody tr th:only-of-type {\n",
       "        vertical-align: middle;\n",
       "    }\n",
       "\n",
       "    .dataframe tbody tr th {\n",
       "        vertical-align: top;\n",
       "    }\n",
       "\n",
       "    .dataframe thead th {\n",
       "        text-align: right;\n",
       "    }\n",
       "</style>\n",
       "<table border=\"1\" class=\"dataframe\">\n",
       "  <thead>\n",
       "    <tr style=\"text-align: right;\">\n",
       "      <th></th>\n",
       "      <th>manuscript_ID</th>\n",
       "      <th>review_ID</th>\n",
       "      <th>sentences</th>\n",
       "    </tr>\n",
       "  </thead>\n",
       "  <tbody>\n",
       "    <tr>\n",
       "      <th>0</th>\n",
       "      <td>10.12688/wellcomeopenres.9899.1</td>\n",
       "      <td>10.21956/wellcomeopenres.10670.r18405</td>\n",
       "      <td>The Deciphering Mechanisms of Developmental Di...</td>\n",
       "    </tr>\n",
       "    <tr>\n",
       "      <th>1</th>\n",
       "      <td>10.12688/wellcomeopenres.9899.1</td>\n",
       "      <td>10.21956/wellcomeopenres.10670.r18405</td>\n",
       "      <td>The lines chosen for this study were selected ...</td>\n",
       "    </tr>\n",
       "    <tr>\n",
       "      <th>2</th>\n",
       "      <td>10.12688/wellcomeopenres.9899.1</td>\n",
       "      <td>10.21956/wellcomeopenres.10670.r18405</td>\n",
       "      <td>The authors employ High Resolution Episcopic M...</td>\n",
       "    </tr>\n",
       "    <tr>\n",
       "      <th>3</th>\n",
       "      <td>10.12688/wellcomeopenres.9899.1</td>\n",
       "      <td>10.21956/wellcomeopenres.10670.r18405</td>\n",
       "      <td>They exploit this rich dataset with a systemat...</td>\n",
       "    </tr>\n",
       "    <tr>\n",
       "      <th>4</th>\n",
       "      <td>10.12688/wellcomeopenres.9899.1</td>\n",
       "      <td>10.21956/wellcomeopenres.10670.r18405</td>\n",
       "      <td>The result is a survey of impressive scope in ...</td>\n",
       "    </tr>\n",
       "  </tbody>\n",
       "</table>\n",
       "</div>"
      ],
      "text/plain": [
       "                     manuscript_ID                              review_ID  \\\n",
       "0  10.12688/wellcomeopenres.9899.1  10.21956/wellcomeopenres.10670.r18405   \n",
       "1  10.12688/wellcomeopenres.9899.1  10.21956/wellcomeopenres.10670.r18405   \n",
       "2  10.12688/wellcomeopenres.9899.1  10.21956/wellcomeopenres.10670.r18405   \n",
       "3  10.12688/wellcomeopenres.9899.1  10.21956/wellcomeopenres.10670.r18405   \n",
       "4  10.12688/wellcomeopenres.9899.1  10.21956/wellcomeopenres.10670.r18405   \n",
       "\n",
       "                                           sentences  \n",
       "0  The Deciphering Mechanisms of Developmental Di...  \n",
       "1  The lines chosen for this study were selected ...  \n",
       "2  The authors employ High Resolution Episcopic M...  \n",
       "3  They exploit this rich dataset with a systemat...  \n",
       "4  The result is a survey of impressive scope in ...  "
      ]
     },
     "execution_count": 13,
     "metadata": {},
     "output_type": "execute_result"
    }
   ],
   "source": [
    "flatten_df = pd.DataFrame({\n",
    "        \"manuscript_ID\": np.repeat(data_df.manuscript_ID.values, data_df.sentences.str.len()),\n",
    "        \"review_ID\": np.repeat(data_df.review_ID.values, data_df.sentences.str.len()), \n",
    "        \"sentences\": list(itertools.chain.from_iterable(data_df.sentences))})\n",
    "flatten_df.head()"
   ]
  },
  {
   "cell_type": "code",
   "execution_count": 14,
   "metadata": {},
   "outputs": [
    {
     "name": "stdout",
     "output_type": "stream",
     "text": [
      "<class 'pandas.core.frame.DataFrame'>\n",
      "RangeIndex: 25711 entries, 0 to 25710\n",
      "Data columns (total 3 columns):\n",
      "manuscript_ID    25711 non-null object\n",
      "review_ID        25711 non-null object\n",
      "sentences        25711 non-null object\n",
      "dtypes: object(3)\n",
      "memory usage: 602.7+ KB\n"
     ]
    }
   ],
   "source": [
    "flatten_df.info()"
   ]
  },
  {
   "cell_type": "markdown",
   "metadata": {},
   "source": [
    "Clean the results."
   ]
  },
  {
   "cell_type": "code",
   "execution_count": 15,
   "metadata": {},
   "outputs": [
    {
     "name": "stdout",
     "output_type": "stream",
     "text": [
      "<class 'pandas.core.frame.DataFrame'>\n",
      "RangeIndex: 24542 entries, 0 to 24541\n",
      "Data columns (total 3 columns):\n",
      "manuscript_ID    24542 non-null object\n",
      "review_ID        24542 non-null object\n",
      "sentences        24542 non-null object\n",
      "dtypes: object(3)\n",
      "memory usage: 575.3+ KB\n"
     ]
    }
   ],
   "source": [
    "#Replace 'nan' with nan in sentences\n",
    "flatten_df.replace(to_replace=['nan'], value=np.nan,inplace=True)\n",
    "#Drop NaNs\n",
    "flatten_df.drop(flatten_df.sentences[flatten_df.sentences.str.len().isna() == True].index,inplace=True)\n",
    "#Drop entries with less than thirty characters (garbage)\n",
    "flatten_df.drop(flatten_df.sentences[flatten_df.sentences.str.len() < 30].index,inplace=True)\n",
    "#Reset index\n",
    "flatten_df.reset_index(drop=True,inplace=True)\n",
    "flatten_df.info()"
   ]
  },
  {
   "cell_type": "markdown",
   "metadata": {},
   "source": [
    "Save dataframe with sentences."
   ]
  },
  {
   "cell_type": "code",
   "execution_count": 16,
   "metadata": {},
   "outputs": [],
   "source": [
    "path_save_tsv = \"../pickles/wellcome_sentencized.tsv\"\n",
    "flatten_df.to_csv(path_save_tsv, sep = '\\t', quoting=csv.QUOTE_NONE)"
   ]
  },
  {
   "cell_type": "code",
   "execution_count": null,
   "metadata": {},
   "outputs": [],
   "source": []
  }
 ],
 "metadata": {
  "kernelspec": {
   "display_name": "Python 3",
   "language": "python",
   "name": "python3"
  },
  "language_info": {
   "codemirror_mode": {
    "name": "ipython",
    "version": 3
   },
   "file_extension": ".py",
   "mimetype": "text/x-python",
   "name": "python",
   "nbconvert_exporter": "python",
   "pygments_lexer": "ipython3",
   "version": "3.6.8"
  }
 },
 "nbformat": 4,
 "nbformat_minor": 4
}
