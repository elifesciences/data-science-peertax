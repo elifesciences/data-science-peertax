{
 "cells": [
  {
   "cell_type": "markdown",
   "metadata": {},
   "source": [
    "# Text sentencizer"
   ]
  },
  {
   "cell_type": "markdown",
   "metadata": {},
   "source": [
    "## Configuration"
   ]
  },
  {
   "cell_type": "code",
   "execution_count": 1,
   "metadata": {},
   "outputs": [],
   "source": [
    "import csv\n",
    "import numpy as np\n",
    "import pandas as pd\n",
    "import matplotlib.pyplot as plt\n",
    "import seaborn as sns\n",
    "sns.set_style(\"whitegrid\")\n",
    "import itertools\n",
    "from tqdm import tqdm_notebook as tqdm \n",
    "from time import time  # To time our operations"
   ]
  },
  {
   "cell_type": "markdown",
   "metadata": {},
   "source": [
    "## Data Extraction & Cleaning"
   ]
  },
  {
   "cell_type": "code",
   "execution_count": 2,
   "metadata": {},
   "outputs": [],
   "source": [
    "df = pd.read_csv('../data/reviews/f1000_reviews.csv')\n",
    "df.drop(columns=['Unnamed: 0'],inplace=True)"
   ]
  },
  {
   "cell_type": "code",
   "execution_count": 3,
   "metadata": {},
   "outputs": [
    {
     "name": "stdout",
     "output_type": "stream",
     "text": [
      "<class 'pandas.core.frame.DataFrame'>\n",
      "RangeIndex: 10738 entries, 0 to 10737\n",
      "Data columns (total 3 columns):\n",
      "manuscript_ID    10738 non-null object\n",
      "review_ID        10738 non-null object\n",
      "review           10738 non-null object\n",
      "dtypes: object(3)\n",
      "memory usage: 251.8+ KB\n"
     ]
    }
   ],
   "source": [
    "df.info()"
   ]
  },
  {
   "cell_type": "markdown",
   "metadata": {},
   "source": [
    "Remove null entries from all columns except \"minor comments\". Remove duplicates from the 'major_comment' section."
   ]
  },
  {
   "cell_type": "code",
   "execution_count": 4,
   "metadata": {},
   "outputs": [],
   "source": [
    "# Replace string 'None' with actual None\n",
    "df = df.replace(to_replace=['None','none'], value=np.nan)\n",
    "d = df.isna().any()\n",
    "data_df = df.dropna(subset = d[d.values == True].index.values).drop_duplicates(subset = ['review']).copy()\n",
    "#Drop entries with 'major_comments' having less than two characters\n",
    "data_df.drop(data_df.review[data_df.review.str.len() < 2].index,inplace=True)\n",
    "data_df.reset_index(drop=True,inplace=True)"
   ]
  },
  {
   "cell_type": "code",
   "execution_count": 5,
   "metadata": {},
   "outputs": [
    {
     "name": "stdout",
     "output_type": "stream",
     "text": [
      "<class 'pandas.core.frame.DataFrame'>\n",
      "RangeIndex: 7297 entries, 0 to 7296\n",
      "Data columns (total 3 columns):\n",
      "manuscript_ID    7297 non-null object\n",
      "review_ID        7297 non-null object\n",
      "review           7297 non-null object\n",
      "dtypes: object(3)\n",
      "memory usage: 171.1+ KB\n"
     ]
    }
   ],
   "source": [
    "data_df.info()"
   ]
  },
  {
   "cell_type": "markdown",
   "metadata": {},
   "source": [
    "Test preprocessing function."
   ]
  },
  {
   "cell_type": "code",
   "execution_count": 6,
   "metadata": {
    "scrolled": false
   },
   "outputs": [
    {
     "data": {
      "application/vnd.jupyter.widget-view+json": {
       "model_id": "da51c44d51724aac99b40ca7b2d44a1d",
       "version_major": 2,
       "version_minor": 0
      },
      "text/plain": [
       "HBox(children=(IntProgress(value=0, max=1), HTML(value='')))"
      ]
     },
     "metadata": {},
     "output_type": "display_data"
    },
    {
     "name": "stdout",
     "output_type": "stream",
     "text": [
      "\n"
     ]
    }
   ],
   "source": [
    "from peertax.sentencizer_LDA import custom_sentencizer as cs\n",
    "from random import randint\n",
    "num = randint(0,len(data_df))\n",
    "txt_test = [data_df.loc[num,'review']]\n",
    "txt_after = cs(txt_test)"
   ]
  },
  {
   "cell_type": "code",
   "execution_count": 7,
   "metadata": {},
   "outputs": [
    {
     "name": "stdout",
     "output_type": "stream",
     "text": [
      "'\\n            The article is supposed to focus on the possible resistance mechanism to drug\\xa0therapy\\xa0in breast cancer. Yet, most literature review and examples cited are based on colorectal cancer, and none of the breast cancer trials are mentioned. The article is not articulated in a way to guide the readers point-to-point and rather scarce in consummating all the points systematically.\\xa0\\n             \\n             The author also did not clearly point out what are the current problems and resistance mechanism in breast cancer, what are the current approaches to overcome these problems and what is the possible outlook in overcoming drug resistance in breast cancer.\\n            I confirm that I have read this submission and believe that I have an appropriate level of expertise to confirm that it is of an acceptable scientific standard, however I have significant reservations, as outlined above.\\n        '\n"
     ]
    }
   ],
   "source": [
    "for row in txt_test:\n",
    "    print(repr(row))"
   ]
  },
  {
   "cell_type": "code",
   "execution_count": 8,
   "metadata": {},
   "outputs": [
    {
     "name": "stdout",
     "output_type": "stream",
     "text": [
      "The article is supposed to focus on the possible resistance mechanism to drugtherapyin breast cancer.\n",
      "\n",
      "\n",
      "Yet, most literature review and examples cited are based on colorectal cancer, and none of the breast cancer trials are mentioned.\n",
      "\n",
      "\n",
      "The article is not articulated in a way to guide the readers point-to-point and rather scarce in consummating all the points systematically.\n",
      "\n",
      "\n",
      "The author also did not clearly point out what are the current problems and resistance mechanism in breast cancer, what are the current approaches to overcome these problems and what is the possible outlook in overcoming drug resistance in breast cancer.\n",
      "\n",
      "\n",
      "I confirm that I have read this submission and believe that I have an appropriate level of expertise to confirm that it is of an acceptable scientific standard, however I have significant reservations, as outlined above.\n",
      "\n",
      "\n"
     ]
    }
   ],
   "source": [
    "for i in txt_after[0]:\n",
    "    print(i)\n",
    "    print('\\n')\n",
    "#txt_after"
   ]
  },
  {
   "cell_type": "markdown",
   "metadata": {},
   "source": [
    "Run sentencizer."
   ]
  },
  {
   "cell_type": "code",
   "execution_count": 9,
   "metadata": {},
   "outputs": [
    {
     "data": {
      "application/vnd.jupyter.widget-view+json": {
       "model_id": "c55f16e529634174902bc8e76f61b6bc",
       "version_major": 2,
       "version_minor": 0
      },
      "text/plain": [
       "HBox(children=(IntProgress(value=0, max=7297), HTML(value='')))"
      ]
     },
     "metadata": {},
     "output_type": "display_data"
    },
    {
     "name": "stdout",
     "output_type": "stream",
     "text": [
      "\n",
      "Time to clean up everything: 3.49 mins\n"
     ]
    }
   ],
   "source": [
    "t = time()\n",
    "data_df['sentences'] = cs(data_df['review'])\n",
    "print('Time to clean up everything: {} mins'.format(round((time() - t) / 60, 2)))"
   ]
  },
  {
   "cell_type": "code",
   "execution_count": 10,
   "metadata": {},
   "outputs": [
    {
     "name": "stdout",
     "output_type": "stream",
     "text": [
      "<class 'pandas.core.frame.DataFrame'>\n",
      "Int64Index: 7297 entries, 0 to 7296\n",
      "Data columns (total 4 columns):\n",
      "manuscript_ID    7297 non-null object\n",
      "review_ID        7297 non-null object\n",
      "review           7297 non-null object\n",
      "sentences        7297 non-null object\n",
      "dtypes: object(4)\n",
      "memory usage: 285.0+ KB\n"
     ]
    }
   ],
   "source": [
    "#Replace 'nan' with proper NaN\n",
    "data_df.replace(to_replace=['nan'], value=np.nan, inplace=True)\n",
    "#Drop NaNs\n",
    "data_df.drop(data_df.sentences[data_df.sentences.isna() == True].index,inplace=True)\n",
    "data_df.info()"
   ]
  },
  {
   "cell_type": "markdown",
   "metadata": {},
   "source": [
    "Flatten the dataframe."
   ]
  },
  {
   "cell_type": "code",
   "execution_count": 11,
   "metadata": {},
   "outputs": [
    {
     "data": {
      "text/html": [
       "<div>\n",
       "<style scoped>\n",
       "    .dataframe tbody tr th:only-of-type {\n",
       "        vertical-align: middle;\n",
       "    }\n",
       "\n",
       "    .dataframe tbody tr th {\n",
       "        vertical-align: top;\n",
       "    }\n",
       "\n",
       "    .dataframe thead th {\n",
       "        text-align: right;\n",
       "    }\n",
       "</style>\n",
       "<table border=\"1\" class=\"dataframe\">\n",
       "  <thead>\n",
       "    <tr style=\"text-align: right;\">\n",
       "      <th></th>\n",
       "      <th>manuscript_ID</th>\n",
       "      <th>review_ID</th>\n",
       "      <th>sentences</th>\n",
       "    </tr>\n",
       "  </thead>\n",
       "  <tbody>\n",
       "    <tr>\n",
       "      <th>0</th>\n",
       "      <td>10.12688/f1000research.1-1.v1</td>\n",
       "      <td>10.5256/f1000research.50.r101</td>\n",
       "      <td>This is an interesting article.</td>\n",
       "    </tr>\n",
       "    <tr>\n",
       "      <th>1</th>\n",
       "      <td>10.12688/f1000research.1-1.v1</td>\n",
       "      <td>10.5256/f1000research.50.r101</td>\n",
       "      <td>However, I am sure there are some sections whe...</td>\n",
       "    </tr>\n",
       "    <tr>\n",
       "      <th>2</th>\n",
       "      <td>10.12688/f1000research.1-1.v1</td>\n",
       "      <td>10.5256/f1000research.50.r101</td>\n",
       "      <td>I confirm that I have read this submission and...</td>\n",
       "    </tr>\n",
       "    <tr>\n",
       "      <th>3</th>\n",
       "      <td>10.12688/f1000research.1-1.v1</td>\n",
       "      <td>10.5256/f1000research.50.r100</td>\n",
       "      <td>This paper has a number of serious flaws.</td>\n",
       "    </tr>\n",
       "    <tr>\n",
       "      <th>4</th>\n",
       "      <td>10.12688/f1000research.1-1.v1</td>\n",
       "      <td>10.5256/f1000research.50.r100</td>\n",
       "      <td>a) The literature is quoted selectively and is...</td>\n",
       "    </tr>\n",
       "  </tbody>\n",
       "</table>\n",
       "</div>"
      ],
      "text/plain": [
       "                   manuscript_ID                      review_ID  \\\n",
       "0  10.12688/f1000research.1-1.v1  10.5256/f1000research.50.r101   \n",
       "1  10.12688/f1000research.1-1.v1  10.5256/f1000research.50.r101   \n",
       "2  10.12688/f1000research.1-1.v1  10.5256/f1000research.50.r101   \n",
       "3  10.12688/f1000research.1-1.v1  10.5256/f1000research.50.r100   \n",
       "4  10.12688/f1000research.1-1.v1  10.5256/f1000research.50.r100   \n",
       "\n",
       "                                           sentences  \n",
       "0                    This is an interesting article.  \n",
       "1  However, I am sure there are some sections whe...  \n",
       "2  I confirm that I have read this submission and...  \n",
       "3          This paper has a number of serious flaws.  \n",
       "4  a) The literature is quoted selectively and is...  "
      ]
     },
     "execution_count": 11,
     "metadata": {},
     "output_type": "execute_result"
    }
   ],
   "source": [
    "flatten_df = pd.DataFrame({\n",
    "        \"manuscript_ID\": np.repeat(data_df.manuscript_ID.values, data_df.sentences.str.len()),\n",
    "        \"review_ID\": np.repeat(data_df.review_ID.values, data_df.sentences.str.len()), \n",
    "        \"sentences\": list(itertools.chain.from_iterable(data_df.sentences))})\n",
    "flatten_df.head()"
   ]
  },
  {
   "cell_type": "code",
   "execution_count": 12,
   "metadata": {},
   "outputs": [
    {
     "name": "stdout",
     "output_type": "stream",
     "text": [
      "<class 'pandas.core.frame.DataFrame'>\n",
      "RangeIndex: 136061 entries, 0 to 136060\n",
      "Data columns (total 3 columns):\n",
      "manuscript_ID    136061 non-null object\n",
      "review_ID        136061 non-null object\n",
      "sentences        136061 non-null object\n",
      "dtypes: object(3)\n",
      "memory usage: 3.1+ MB\n"
     ]
    }
   ],
   "source": [
    "flatten_df.info()"
   ]
  },
  {
   "cell_type": "markdown",
   "metadata": {},
   "source": [
    "Clean the results."
   ]
  },
  {
   "cell_type": "code",
   "execution_count": 13,
   "metadata": {},
   "outputs": [
    {
     "name": "stdout",
     "output_type": "stream",
     "text": [
      "<class 'pandas.core.frame.DataFrame'>\n",
      "RangeIndex: 132419 entries, 0 to 132418\n",
      "Data columns (total 3 columns):\n",
      "manuscript_ID    132419 non-null object\n",
      "review_ID        132419 non-null object\n",
      "sentences        132419 non-null object\n",
      "dtypes: object(3)\n",
      "memory usage: 3.0+ MB\n"
     ]
    }
   ],
   "source": [
    "#Replace 'nan' with nan in sentences\n",
    "flatten_df.replace(to_replace=['nan'], value=np.nan,inplace=True)\n",
    "#Drop NaNs\n",
    "flatten_df.drop(flatten_df.sentences[flatten_df.sentences.str.len().isna() == True].index,inplace=True)\n",
    "#Drop entries with less than ten characters (garbage)\n",
    "flatten_df.drop(flatten_df.sentences[flatten_df.sentences.str.len() < 10].index,inplace=True)\n",
    "#Reset index\n",
    "flatten_df.reset_index(drop=True,inplace=True)\n",
    "flatten_df.info()"
   ]
  },
  {
   "cell_type": "markdown",
   "metadata": {},
   "source": [
    "Save dataframe with sentences."
   ]
  },
  {
   "cell_type": "code",
   "execution_count": 14,
   "metadata": {},
   "outputs": [],
   "source": [
    "path_save_tsv = \"../pickles/f1000_sentencized.tsv\"\n",
    "flatten_df.to_csv(path_save_tsv, separator = '\\t', quoting=csv.QUOTE_NONE)"
   ]
  },
  {
   "cell_type": "code",
   "execution_count": null,
   "metadata": {},
   "outputs": [],
   "source": []
  }
 ],
 "metadata": {
  "kernelspec": {
   "display_name": "Python 3",
   "language": "python",
   "name": "python3"
  },
  "language_info": {
   "codemirror_mode": {
    "name": "ipython",
    "version": 3
   },
   "file_extension": ".py",
   "mimetype": "text/x-python",
   "name": "python",
   "nbconvert_exporter": "python",
   "pygments_lexer": "ipython3",
   "version": "3.6.8"
  }
 },
 "nbformat": 4,
 "nbformat_minor": 4
}
